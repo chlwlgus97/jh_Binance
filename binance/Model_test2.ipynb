{
 "cells": [
  {
   "cell_type": "code",
   "execution_count": 2,
   "metadata": {},
   "outputs": [],
   "source": [
    "import pandas as pd\n",
    "\n",
    "# 각 비트코인 종목 데이터 파일 경로\n",
    "BTCUSDT_path = 'C:\\\\education\\\\ml_dev\\\\coin\\jh_-\\\\binance\\\\3m_BTCUSDT.csv'\n",
    "\n",
    "# CSV 파일을 데이터프레임으로 읽기\n",
    "BTCUSDT_df = pd.read_csv(BTCUSDT_path)\n",
    "\n",
    "# 시계열 데이터를 하나의 데이터프레임으로 합치기\n",
    "# merged_df = pd.concat([BTCUSDT_df])\n",
    "\n",
    "# 합친 데이터프레임을 CSV 파일로 저장하기\n",
    "BTCUSDT_df.to_csv('bitcoin_data.csv', index=False)"
   ]
  },
  {
   "cell_type": "code",
   "execution_count": 3,
   "metadata": {},
   "outputs": [
    {
     "data": {
      "text/html": [
       "<div>\n",
       "<style scoped>\n",
       "    .dataframe tbody tr th:only-of-type {\n",
       "        vertical-align: middle;\n",
       "    }\n",
       "\n",
       "    .dataframe tbody tr th {\n",
       "        vertical-align: top;\n",
       "    }\n",
       "\n",
       "    .dataframe thead th {\n",
       "        text-align: right;\n",
       "    }\n",
       "</style>\n",
       "<table border=\"1\" class=\"dataframe\">\n",
       "  <thead>\n",
       "    <tr style=\"text-align: right;\">\n",
       "      <th></th>\n",
       "      <th>open_time</th>\n",
       "      <th>open</th>\n",
       "      <th>high</th>\n",
       "      <th>low</th>\n",
       "      <th>close</th>\n",
       "      <th>volume</th>\n",
       "      <th>quote_av</th>\n",
       "      <th>trades</th>\n",
       "      <th>tb_base_av</th>\n",
       "      <th>tb_quote_av</th>\n",
       "      <th>symbol</th>\n",
       "    </tr>\n",
       "  </thead>\n",
       "  <tbody>\n",
       "    <tr>\n",
       "      <th>0</th>\n",
       "      <td>2023-10-14 09:00:00</td>\n",
       "      <td>26849.7</td>\n",
       "      <td>26858.1</td>\n",
       "      <td>26843.4</td>\n",
       "      <td>26843.4</td>\n",
       "      <td>261.516</td>\n",
       "      <td>7.022053e+06</td>\n",
       "      <td>2337</td>\n",
       "      <td>106.669</td>\n",
       "      <td>2.864295e+06</td>\n",
       "      <td>BTCUSDT</td>\n",
       "    </tr>\n",
       "    <tr>\n",
       "      <th>1</th>\n",
       "      <td>2023-10-14 09:01:00</td>\n",
       "      <td>26843.5</td>\n",
       "      <td>26843.5</td>\n",
       "      <td>26838.6</td>\n",
       "      <td>26843.4</td>\n",
       "      <td>95.056</td>\n",
       "      <td>2.551347e+06</td>\n",
       "      <td>1002</td>\n",
       "      <td>44.023</td>\n",
       "      <td>1.181565e+06</td>\n",
       "      <td>BTCUSDT</td>\n",
       "    </tr>\n",
       "    <tr>\n",
       "      <th>2</th>\n",
       "      <td>2023-10-14 09:02:00</td>\n",
       "      <td>26843.4</td>\n",
       "      <td>26854.3</td>\n",
       "      <td>26843.4</td>\n",
       "      <td>26850.0</td>\n",
       "      <td>95.366</td>\n",
       "      <td>2.560510e+06</td>\n",
       "      <td>1155</td>\n",
       "      <td>62.120</td>\n",
       "      <td>1.667846e+06</td>\n",
       "      <td>BTCUSDT</td>\n",
       "    </tr>\n",
       "  </tbody>\n",
       "</table>\n",
       "</div>"
      ],
      "text/plain": [
       "             open_time     open     high      low    close   volume  \\\n",
       "0  2023-10-14 09:00:00  26849.7  26858.1  26843.4  26843.4  261.516   \n",
       "1  2023-10-14 09:01:00  26843.5  26843.5  26838.6  26843.4   95.056   \n",
       "2  2023-10-14 09:02:00  26843.4  26854.3  26843.4  26850.0   95.366   \n",
       "\n",
       "       quote_av  trades  tb_base_av   tb_quote_av   symbol  \n",
       "0  7.022053e+06    2337     106.669  2.864295e+06  BTCUSDT  \n",
       "1  2.551347e+06    1002      44.023  1.181565e+06  BTCUSDT  \n",
       "2  2.560510e+06    1155      62.120  1.667846e+06  BTCUSDT  "
      ]
     },
     "execution_count": 3,
     "metadata": {},
     "output_type": "execute_result"
    }
   ],
   "source": [
    "BTCUSDT_df.head(3)"
   ]
  },
  {
   "cell_type": "code",
   "execution_count": 4,
   "metadata": {},
   "outputs": [
    {
     "name": "stdout",
     "output_type": "stream",
     "text": [
      "<class 'pandas.core.frame.DataFrame'>\n",
      "RangeIndex: 133921 entries, 0 to 133920\n",
      "Data columns (total 11 columns):\n",
      " #   Column       Non-Null Count   Dtype  \n",
      "---  ------       --------------   -----  \n",
      " 0   open_time    133921 non-null  object \n",
      " 1   open         133921 non-null  float64\n",
      " 2   high         133921 non-null  float64\n",
      " 3   low          133921 non-null  float64\n",
      " 4   close        133921 non-null  float64\n",
      " 5   volume       133921 non-null  float64\n",
      " 6   quote_av     133921 non-null  float64\n",
      " 7   trades       133921 non-null  int64  \n",
      " 8   tb_base_av   133921 non-null  float64\n",
      " 9   tb_quote_av  133921 non-null  float64\n",
      " 10  symbol       133921 non-null  object \n",
      "dtypes: float64(8), int64(1), object(2)\n",
      "memory usage: 11.2+ MB\n"
     ]
    }
   ],
   "source": [
    "BTCUSDT_df.info()"
   ]
  },
  {
   "cell_type": "code",
   "execution_count": 8,
   "metadata": {},
   "outputs": [
    {
     "name": "stdout",
     "output_type": "stream",
     "text": [
      "Empty DataFrame\n",
      "Columns: [open_time, open, high, low, close, volume, quote_av, trades, tb_base_av, tb_quote_av, symbol]\n",
      "Index: []\n"
     ]
    }
   ],
   "source": [
    "BTCUSDT_df = BTCUSDT_df[(BTCUSDT_df==0).any(axis=1)]\n",
    "print(BTCUSDT_df)"
   ]
  },
  {
   "cell_type": "markdown",
   "metadata": {},
   "source": [
    "---\n",
    "- 시계열 데이터 시퀀스로 변환"
   ]
  },
  {
   "cell_type": "code",
   "execution_count": null,
   "metadata": {},
   "outputs": [],
   "source": [
    "from sklearn.preprocessing import MinMaxScaler\n",
    "from sklearn.model_selection import train_test_split\n",
    "import numpy as np\n",
    "\n",
    "# 시계열 데이터를 시퀀스로 변환하는 함수\n",
    "def create_sequences(data, sequence_length, target_step):\n",
    "    xs = []\n",
    "    ys = []\n",
    "    for i in range(len(data) - sequence_length - target_step + 1):\n",
    "        x = data[i:(i + sequence_length)]\n",
    "        y = data[i + sequence_length + target_step - 1]\n",
    "        xs.append(x)\n",
    "        ys.append(y)\n",
    "    return np.array(xs), np.array(ys)\n",
    "\n",
    "# BTCUSDT_df 데이터 프레임에서 'close' 컬럼만 사용하여 시퀀스 데이터 생성\n",
    "sequence_length = 60  # 1시간 데이터를 입력으로 사용\n",
    "target_step = 5  # 5분 후를 예측\n",
    "data_close = BTCUSDT_df['close'].values.reshape(-1, 1)\n",
    "\n",
    "# 데이터 정규화\n",
    "scaler = MinMaxScaler(feature_range=(0, 1))\n",
    "data_close_scaled = scaler.fit_transform(data_close)\n",
    "\n",
    "# 시퀀스 생성\n",
    "X, y = create_sequences(data_close_scaled, sequence_length, target_step)\n",
    "\n",
    "# 훈련 데이터와 테스트 데이터로 분할\n",
    "X_train, X_test, y_train, y_test = train_test_split(X, y, test_size=0.2, random_state=42)\n",
    "\n",
    "# LSTM 모델에 입력할 수 있도록 데이터 차원 조정\n",
    "X_train = X_train.reshape((X_train.shape[0], X_train.shape[1], 1))\n",
    "X_test = X_test.reshape((X_test.shape[0], X_test.shape[1], 1))\n",
    "\n",
    "print(\"X_train shape:\", X_train.shape)\n",
    "print(\"X_test shape:\", X_test.shape)\n",
    "print(\"y_train shape:\", y_train.shape)\n",
    "print(\"y_test shape:\", y_test.shape)"
   ]
  }
 ],
 "metadata": {
  "kernelspec": {
   "display_name": "ml-dev",
   "language": "python",
   "name": "python3"
  },
  "language_info": {
   "codemirror_mode": {
    "name": "ipython",
    "version": 3
   },
   "file_extension": ".py",
   "mimetype": "text/x-python",
   "name": "python",
   "nbconvert_exporter": "python",
   "pygments_lexer": "ipython3",
   "version": "3.10.13"
  }
 },
 "nbformat": 4,
 "nbformat_minor": 2
}
