{
 "cells": [
  {
   "cell_type": "code",
   "execution_count": 2,
   "metadata": {},
   "outputs": [],
   "source": [
    "# !pip install python-binance\n",
    "from datetime import datetime\n",
    "import pandas as pd"
   ]
  },
  {
   "cell_type": "code",
   "execution_count": 4,
   "metadata": {},
   "outputs": [],
   "source": [
    "api_key = 'V0RnTw2vdjBcizJARYI8qWCT99Vej1DoDBAayNodNRLPKM6Nho87m2LN83JbL9o9'\n",
    "api_secret = 'e5PIk5tkns5hSjE6qsc4JKSffVWO6VTbQuOY0xjgEBraKo6shnK3iC9rV2z1S2YI'\n",
    "\n",
    "from datetime import datetime\n",
    "import pandas as pd\n",
    "\n",
    "COLUMNS = ['open_time', 'open', 'high', 'low', 'close', 'volume', 'close_time', 'quote_av', 'trades', \n",
    "                   'tb_base_av', 'tb_quote_av', 'ignore']\n",
    "\n",
    "from binance.client import Client\n",
    "client = Client(api_key=api_key, api_secret=api_secret)\n",
    "\n",
    "def get_data(start_date, end_date, symbol):\n",
    "    data = client.futures_historical_klines(\n",
    "            symbol=symbol,\n",
    "            interval='1m',\n",
    "            start_str=start_date,\n",
    "            end_str=end_date\n",
    "        )\n",
    "    \n",
    "    # 전처리\n",
    "    df = pd.DataFrame(data)\n",
    "    df.columns = COLUMNS\n",
    "    df['open_time'] = df['open_time'].apply(lambda x: datetime.fromtimestamp(x // 1000))\n",
    "    df = df.drop(columns=['close_time', 'ignore'])\n",
    "    df['symbol'] = symbol\n",
    "    df.loc[:, 'open':'tb_quote_av'] = df.loc[:, 'open':'tb_quote_av'].astype(float)  # string to float\n",
    "    df['trades'] = df['trades'].astype(int)\n",
    "    return df\n",
    "\n",
    "start_date = '2024-01-14'\n",
    "end_date = '2024-01-15'\n",
    "symbol = ['BTCUSDT']\n",
    "for i in symbol:\n",
    "    df = get_data(start_date=start_date, end_date=end_date, symbol=i)\n",
    "    df.to_csv(f'jh_binance_{i}.csv', index=False)"
   ]
  }
 ],
 "metadata": {
  "kernelspec": {
   "display_name": "ml-dev",
   "language": "python",
   "name": "python3"
  },
  "language_info": {
   "codemirror_mode": {
    "name": "ipython",
    "version": 3
   },
   "file_extension": ".py",
   "mimetype": "text/x-python",
   "name": "python",
   "nbconvert_exporter": "python",
   "pygments_lexer": "ipython3",
   "version": "3.10.13"
  }
 },
 "nbformat": 4,
 "nbformat_minor": 2
}
