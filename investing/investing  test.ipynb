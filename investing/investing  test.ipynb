{
 "cells": [
  {
   "cell_type": "code",
   "execution_count": 1,
   "metadata": {},
   "outputs": [],
   "source": [
    "import requests\n",
    "from bs4 import BeautifulSoup\n",
    "from selenium import webdriver\n",
    "from selenium.webdriver.chrome.options import Options\n",
    "import time\n",
    "import csv\n",
    "import json"
   ]
  },
  {
   "cell_type": "code",
   "execution_count": null,
   "metadata": {},
   "outputs": [],
   "source": [
    "import os\n",
    "os.getcwd()"
   ]
  },
  {
   "cell_type": "markdown",
   "metadata": {},
   "source": [
    "### 블로그 원본 코드"
   ]
  },
  {
   "cell_type": "code",
   "execution_count": null,
   "metadata": {},
   "outputs": [],
   "source": [
    "# html 정보 가져오기 및 headers 세팅\n",
    "headers = {'user-agent':'Mozilla/5.0 (Windows NT 10.0; Win64; x64) AppleWebKit/537.36 (KHTML, like Gecko) Chrome/88.0.4324.150 Safari/537.36',\n",
    "            'accept':'text/html,application/xhtml+xml,application/xml;q=0.9,image/avif,image/webp,image/apng,*/*;q=0.8,application/signed-exchange;v=b3;q=0.9'}\n",
    "# 뉴스 제목 url\n",
    "url = \"https://www.investing.com/crypto/bitcoin/news\"\n",
    "# http 요청 받기\n",
    "response = requests.get(url,headers=headers)\n",
    "# url에 대한 정보를 받을 수 있는 soup 생성\n",
    "soup = BeautifulSoup(response.text,'lxml')\n",
    "\n",
    "news_title=[title.get('title') for title in soup.select('.title') if title.get('title') != None]\n",
    "print(news_title)"
   ]
  },
  {
   "cell_type": "markdown",
   "metadata": {},
   "source": [
    "---\n",
    "### gpt 코드"
   ]
  },
  {
   "cell_type": "code",
   "execution_count": null,
   "metadata": {},
   "outputs": [],
   "source": [
    "import requests\n",
    "from bs4 import BeautifulSoup\n",
    "\n",
    "# investing.com에서 BTC 뉴스 페이지 URL\n",
    "url = 'https://www.investing.com/crypto/bitcoin/news'\n",
    "\n",
    "# HTTP GET 요청을 보내서 페이지 내용 가져오기\n",
    "response = requests.get(url)\n",
    "\n",
    "# 요청이 성공했는지 확인\n",
    "if response.status_code == 200:\n",
    "    # 페이지 내용을 BeautifulSoup을 사용하여 파싱\n",
    "    soup = BeautifulSoup(response.text, 'html.parser')\n",
    "\n",
    "    # 뉴스 제목들을 찾기 위한 CSS 클래스 확인\n",
    "    news_titles = soup.select('.largeTitle a')\n",
    "\n",
    "    # 각 뉴스 제목 출력\n",
    "    for title in news_titles:\n",
    "        print(title.text.strip())\n",
    "else:\n",
    "    print(f'Error: {response.status_code}')\n",
    "    \n",
    "print(news_titles)"
   ]
  },
  {
   "cell_type": "markdown",
   "metadata": {},
   "source": [
    "---\n",
    "### gpt 수정 코드"
   ]
  },
  {
   "cell_type": "code",
   "execution_count": null,
   "metadata": {},
   "outputs": [],
   "source": [
    "import requests\n",
    "from bs4 import BeautifulSoup\n",
    "\n",
    "# html 정보 가져오기 및 headers 세팅\n",
    "headers = {\n",
    "    'user-agent': 'Mozilla/5.0 (Windows NT 10.0; Win64; x64) AppleWebKit/537.36 (KHTML, like Gecko) Chrome/88.0.4324.150 Safari/537.36',\n",
    "    'accept': 'text/html,application/xhtml+xml,application/xml;q=0.9,image/avif,image/webp,image/apng,*/*;q=0.8,application/signed-exchange;v=b3;q=0.9'\n",
    "}\n",
    "\n",
    "# 뉴스 제목 url\n",
    "url = \"https://www.investing.com/crypto/bitcoin/news\"\n",
    "\n",
    "# http 요청 받기\n",
    "response = requests.get(url, headers=headers)\n",
    "\n",
    "# url에 대한 정보를 받을 수 있는 soup 생성\n",
    "soup = BeautifulSoup(response.text, 'html.parser')\n",
    "\n",
    "# 뉴스 제목 선택\n",
    "news_titles = [title.text.strip() for title in soup.select('.font-bold.hover\\\\:underline')]\n",
    "\n",
    "# 결과 출력\n",
    "print(news_titles)\n"
   ]
  },
  {
   "cell_type": "markdown",
   "metadata": {},
   "source": [
    "---\n",
    "- 자동 크롬드라이버 다운"
   ]
  },
  {
   "cell_type": "code",
   "execution_count": null,
   "metadata": {},
   "outputs": [],
   "source": [
    "from webdriver_manager.chrome import ChromeDriverManager\n",
    "from selenium import webdriver\n",
    "from selenium.webdriver.chrome.options import Options\n",
    "from bs4 import BeautifulSoup\n",
    "import time\n",
    "\n",
    "# Chrome 브라우저를 백그라운드에서 실행하도록 옵션 설정\n",
    "chrome_options = Options()\n",
    "chrome_options.add_argument('--headless')  # 백그라운드 실행 옵션 추가\n",
    "\n",
    "# 특정 버전의 ChromeDriver 사용\n",
    "chrome_driver_path = ChromeDriverManager(browser_version=\"114.0.5735.90\").install()\n",
    "driver = webdriver.Chrome(executable_path=chrome_driver_path)\n",
    "\n",
    "# Selenium으로 웹페이지 열기\n",
    "url = \"https://www.investing.com/crypto/bitcoin/news\"\n",
    "driver.get(url)\n",
    "time.sleep(5)  # 페이지가 로딩되기를 기다림 (시간이 많이 걸릴 경우 조절 필요)\n",
    "\n",
    "# 현재 페이지 소스코드 가져오기\n",
    "page_source = driver.page_source\n",
    "\n",
    "# BeautifulSoup을 사용하여 뉴스 제목 추출\n",
    "soup = BeautifulSoup(page_source, 'html.parser')\n",
    "news_titles = [title.text.strip() for title in soup.select('.font-bold.hover\\\\:underline')]\n",
    "\n",
    "# 결과 출력\n",
    "print(news_titles)\n",
    "\n",
    "# 드라이버 종료\n",
    "driver.quit()\n"
   ]
  },
  {
   "cell_type": "markdown",
   "metadata": {},
   "source": [
    "---\n",
    "- 수동 경로 지정"
   ]
  },
  {
   "cell_type": "code",
   "execution_count": 13,
   "metadata": {},
   "outputs": [
    {
     "name": "stdout",
     "output_type": "stream",
     "text": [
      "['Enforcement Directorate arrests Katalyst executive in Bitcoin scam', 'Shiba Inu (SHIB) Becoming Bullish, Ethereum (ETH) Price Screams Rally Continuation, Bitcoin (BTC) Not Giving up Market Dominance', 'Crypto social media accounts hacked, spreading misinformation', 'BTIG upgrades Marathon Digital as Bitcoin draws attention after spot ETF approvals', 'Binance Issues Important Notice for BTC, XRP, ADA Futures Traders: Details', 'VanEck to liquidate Bitcoin Strategy ETF following SEC nod', \"BlackRock to Become BTC Biggest Holder, Analyst Predicts; Michael Saylor Issues Warning for BTC Holders; SHIB Rep Unveils Shibarium's Future: Crypto News Digest by U.Today\", 'JPMorgan CEO remains skeptical about Bitcoin as price dips', \"Max Keiser Points to BTC Price Growth Estimate, Justin Sun Withdraws $13.8 Million ETH From Binance, Elon Musk's Post Sparks SHIB, XRP Armies' Curiosity: Crypto News Digest by U.Today\", 'Ethereum (ETH) Makes Comeback, Finally', 'Find a Crypto Broker']\n",
      "뉴스 헤더가 성공적으로 저장되었습니다.\n"
     ]
    }
   ],
   "source": [
    "# Chrome 브라우저를 백그라운드에서 실행하도록 옵션 설정\n",
    "chrome_options = Options()\n",
    "chrome_options.add_argument('--headless')  # 백그라운드 실행 옵션 추가\n",
    "\n",
    "# 크롬 드라이버 다운로드 및 실행 경로 지정\n",
    "chrome_driver_path = 'C:\\education\\ml_dev\\coin\\jh_-\\investing\\chromedriver-win64'  # 자신의 크롬 드라이버 경로로 변경\n",
    "\n",
    "# Selenium으로 웹페이지 열기\n",
    "url = \"https://www.investing.com/crypto/bitcoin/news\"\n",
    "driver = webdriver.Chrome(options=chrome_options)\n",
    "driver.get(url)\n",
    "time.sleep(1)  # 페이지가 로딩되기를 기다림 (시간이 많이 걸릴 경우 조절 필요)\n",
    "\n",
    "# 현재 페이지 소스코드 가져오기\n",
    "page_source = driver.page_source\n",
    "\n",
    "# BeautifulSoup을 사용하여 뉴스 제목 추출\n",
    "soup = BeautifulSoup(page_source, 'html.parser')\n",
    "news_titles = [title.text.strip() for title in soup.select('.font-bold.hover\\\\:underline')]\n",
    "\n",
    "# 결과 출력\n",
    "print(news_titles)\n",
    "\n",
    "# 드라이버 종료\n",
    "driver.quit()\n",
    "\n",
    "# 뉴스 헤더를 JSON 파일로 저장\n",
    "result_data = {'news_titles': news_titles}\n",
    "with open('bitcoin_news_titles.json', 'w', encoding='utf-8') as json_file:\n",
    "    json.dump(result_data, json_file, ensure_ascii=False, indent=4)\n",
    "\n",
    "print(\"뉴스 헤더가 성공적으로 저장되었습니다.\")"
   ]
  },
  {
   "cell_type": "markdown",
   "metadata": {},
   "source": [
    "---\n",
    "- 전체 페이지에 대한 뉴스 제목과 본문을 json로 저장"
   ]
  },
  {
   "cell_type": "code",
   "execution_count": 4,
   "metadata": {},
   "outputs": [
    {
     "name": "stdout",
     "output_type": "stream",
     "text": [
      "뉴스 헤더가 성공적으로 저장되었습니다.\n"
     ]
    }
   ],
   "source": [
    "# Chrome 브라우저를 백그라운드에서 실행하도록 옵션 설정\n",
    "chrome_options = Options()\n",
    "chrome_options.add_argument('--headless')  # 백그라운드 실행 옵션 추가\n",
    "\n",
    "# 크롬 드라이버 다운로드 및 실행 경로 지정 (자신의 크롬 드라이버 경로로 변경)\n",
    "chrome_driver_path = 'C:\\\\education\\\\ml_dev\\\\coin\\\\jh_-\\\\investing\\\\chromedriver-win64'\n",
    "\n",
    "# Selenium으로 웹페이지 열기 함수\n",
    "def get_news_titles(url):\n",
    "    driver = webdriver.Chrome(options=chrome_options)\n",
    "    driver.get(url)\n",
    "    time.sleep(1)  # 페이지가 로딩되기를 기다림 (시간이 많이 걸릴 경우 조절 필요)\n",
    "    \n",
    "    # 현재 페이지 소스코드 가져오기\n",
    "    page_source = driver.page_source\n",
    "    \n",
    "    # BeautifulSoup을 사용하여 뉴스 제목 추출\n",
    "    soup = BeautifulSoup(page_source, 'html.parser')\n",
    "    news_titles = [title.text.strip() for title in soup.select('.textDiv')]\n",
    "    \n",
    "    # 드라이버 종료\n",
    "    driver.quit()\n",
    "    \n",
    "    return news_titles\n",
    "\n",
    "# 여러 페이지의 뉴스 헤더를 저장할 리스트\n",
    "all_news_titles = []\n",
    "\n",
    "# 1부터 100까지의 페이지에 대해 뉴스 헤더를 가져와서 리스트에 추가\n",
    "for page_number in range(1, 2):\n",
    "    url = f\"https://www.investing.com/news/cryptocurrency-news/{page_number}\"\n",
    "    news_titles = get_news_titles(url)\n",
    "    all_news_titles.extend(news_titles)\n",
    "\n",
    "# 뉴스 헤더를 JSON 파일로 저장\n",
    "result_data = {'news_titles': all_news_titles}\n",
    "with open('2all_bitcoin_news_titles.json', 'w', encoding='utf-8') as json_file:\n",
    "    json.dump(result_data, json_file, ensure_ascii=False, indent=4)\n",
    "\n",
    "print(\"뉴스 헤더가 성공적으로 저장되었습니다.\")"
   ]
  },
  {
   "cell_type": "code",
   "execution_count": null,
   "metadata": {},
   "outputs": [],
   "source": [
    "test =1"
   ]
  }
 ],
 "metadata": {
  "kernelspec": {
   "display_name": "ml-dev",
   "language": "python",
   "name": "python3"
  },
  "language_info": {
   "codemirror_mode": {
    "name": "ipython",
    "version": 3
   },
   "file_extension": ".py",
   "mimetype": "text/x-python",
   "name": "python",
   "nbconvert_exporter": "python",
   "pygments_lexer": "ipython3",
   "version": "3.10.13"
  }
 },
 "nbformat": 4,
 "nbformat_minor": 2
}
