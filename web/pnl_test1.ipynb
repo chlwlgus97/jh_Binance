{
 "cells": [
  {
   "cell_type": "code",
   "execution_count": null,
   "metadata": {},
   "outputs": [],
   "source": [
    "pip install ccxt"
   ]
  },
  {
   "cell_type": "code",
   "execution_count": 2,
   "metadata": {},
   "outputs": [
    {
     "data": {
      "text/plain": [
       "-0.64496"
      ]
     },
     "execution_count": 2,
     "metadata": {},
     "output_type": "execute_result"
    }
   ],
   "source": [
    "import ccxt\n",
    "\n",
    "# 바이낸스 선물 계좌 객체 생성\n",
    "exchange = ccxt.binance({\n",
    "    'apiKey':'4dqvjqCSUXkDmZWo0nQLCKGz0EqSHQFcXQwqGJaWyQyeUScerGXoweMFCKaMd6di',\n",
    "    'secret':'1pOOpOOpHaDqhxy0IKUQ67NPkfcSSDWsZUl9xpGiEUyxYI11YqO3jXBVmHwGTsVh',\n",
    "    'enableRateLimit': True,\n",
    "    'options': {\n",
    "        'defaultType': 'future'  # 선물 계좌를 사용하기 위한 설정\n",
    "    }\n",
    "})\n",
    "# 심볼별 PNL 기록 전부()\n",
    "symbol = \"XRP/USDT\"\n",
    "since = 1708659300000\n",
    "xrp_pnl = exchange.fetchMyTrades(\n",
    "      symbol=symbol\n",
    "    , since=since\n",
    ")\n",
    "symbol = \"BTC/USDT\"\n",
    "btc_pnl = exchange.fetchMyTrades(\n",
    "      symbol=symbol\n",
    "    , since=since\n",
    ")\n",
    "symbol = \"ETH/USDT\"\n",
    "eth_pnl = exchange.fetchMyTrades(\n",
    "      symbol=symbol\n",
    "    , since=since\n",
    ") \n",
    "# 총 계산\n",
    "total_realized_pnl1 = sum(float(trade['info']['realizedPnl']) for trade in xrp_pnl)\n",
    "total_realized_pnl2 = sum(float(trade['info']['realizedPnl']) for trade in btc_pnl)\n",
    "total_realized_pnl3 = sum(float(trade['info']['realizedPnl']) for trade in eth_pnl)\n",
    "\n",
    "total_realized_pnl = total_realized_pnl1 + total_realized_pnl2 + total_realized_pnl3\n",
    "total_realized_pnl"
   ]
  }
 ],
 "metadata": {
  "kernelspec": {
   "display_name": "ml-dev",
   "language": "python",
   "name": "python3"
  },
  "language_info": {
   "codemirror_mode": {
    "name": "ipython",
    "version": 3
   },
   "file_extension": ".py",
   "mimetype": "text/x-python",
   "name": "python",
   "nbconvert_exporter": "python",
   "pygments_lexer": "ipython3",
   "version": "3.10.13"
  }
 },
 "nbformat": 4,
 "nbformat_minor": 2
}
